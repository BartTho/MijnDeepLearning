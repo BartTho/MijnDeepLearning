{
 "cells": [
  {
   "cell_type": "markdown",
   "metadata": {},
   "source": [
    "Importeren"
   ]
  },
  {
   "cell_type": "markdown",
   "metadata": {},
   "source": [
    " #1) Zonder certificaat\n",
    "import ssl\n",
    "ssl._create_default_https_context = ssl._create_unverified_context\n",
    "\n",
    "#ofwel\n",
    "#2) Met certificaat\n",
    "import ssl\n",
    "import certifi\n",
    "\n",
    "urlopen(request, context=ssl.create_default_context(cafile=certifi.where()))\n",
    "\n",
    "#ofwel\n",
    "3) pip install certifi\n",
    "\n",
    "#ofwel\n",
    "4)In macOS just open Macintosh HD\n",
    "Now Select Application\n",
    "Then Select Python folder ( Python3.6, Python3.7 Whatever You are using just select this folder )\n",
    "Then, double click on Install Certificates.command.\n",
    "Now your error should be solved\n"
   ]
  },
  {
   "cell_type": "code",
   "execution_count": null,
   "metadata": {},
   "outputs": [],
   "source": [
    "import pandas as pd\n",
    "import numpy as np\n",
    "from sklearn.datasets import fetch_openml\n",
    "from sklearn.datasets import fetch_california_housing\n",
    "\n",
    "housing = fetch_openml(name=\"house_prices\", as_frame=True)\n",
    "print(housing.data.shape)"
   ]
  },
  {
   "cell_type": "markdown",
   "metadata": {},
   "source": [
    "Syntax voorbeelden"
   ]
  },
  {
   "cell_type": "markdown",
   "metadata": {},
   "source": [
    "SELECTIE"
   ]
  },
  {
   "cell_type": "code",
   "execution_count": null,
   "metadata": {},
   "outputs": [],
   "source": [
    "var = 1\n",
    "if var < 0:\n",
    "    print(\"the value of var is negative\")\n",
    "    print (var)\n",
    "else:\n",
    "    print (\"the value of var is positive\")\n",
    "    print (var)"
   ]
  },
  {
   "cell_type": "markdown",
   "metadata": {},
   "source": [
    "Iteraties"
   ]
  },
  {
   "cell_type": "code",
   "execution_count": null,
   "metadata": {},
   "outputs": [],
   "source": [
    "# First Example\n",
    "print(\"First Example\")\n",
    "for item in [1,2,3,4,5]:\n",
    "    print ('item :', item)\n",
    "# Second Example\n",
    "print (\"Second Example\")\n",
    "letters = ['A', 'B', 'C']\n",
    "for letter in letters:\n",
    "    print (' First loop letter :', letter)\n",
    "# Third Example - Iterating by sequency index\n",
    "print (\"Third Example\")\n",
    "for index in range(len(letters)):\n",
    "    print ('First loop letter :', letters[index])\n",
    "# Fourth Example - Using else statement\n",
    "print (\"Fourth Example\")\n",
    "for item in [1,2,3,4,5]:\n",
    "    print ('item :', item)\n",
    "else:\n",
    "    print ('looping over item complete!')\n",
    "    \n",
    "\n",
    "count = 0\n",
    "while (count <3):\n",
    "    print('The count is:', count)\n",
    "    count = count + 1"
   ]
  },
  {
   "cell_type": "markdown",
   "metadata": {},
   "source": [
    "List"
   ]
  },
  {
   "cell_type": "code",
   "execution_count": null,
   "metadata": {},
   "outputs": [],
   "source": [
    "# Create lists\n",
    "list_1 = ['Statistics', 'Programming', 2016, 2017, 2018,2019,2020,2021,2022];\n",
    "list_2 = ['a', 'b', 1, 2, 3, 4, 5, 6, 7 ];\n",
    "# Accessing values in lists\n",
    "print (\"list_1[0]: \", list_1[0])\n",
    "print (\"list2_[1:5]: \", list_2[1:5])\n",
    "\n",
    "print (\"list_1 values: \", list_1)\n",
    "# Deleting list element\n",
    "del list_1[5]\n",
    "print (\"After deleting value at index 2 : \", list_1)\n",
    "\n",
    "print (\"Length: \", len(list_1))\n",
    "print (\"Concatenation: \", [1,2,3] + [4, 5, 6])\n",
    "print (\"Repetition :\", ['Hello'] * 4)\n",
    "print (\"Membership :\", 3 in [1,2,3])\n",
    "print (\"Iteration :\")\n",
    "for x in [1,2,3]: print(x)\n",
    "# Negative sign will count from the right\n",
    "print (\"slicing :\", list_1[-2])\n",
    "# If you dont specify the end explicitly, all elements from the specified\n",
    "# start index will be printed\n",
    "print (\"slicing range: \", list_1[1:])\n",
    "# Comparing elements of lists\n",
    "print (\"Max of list: \", max([1,2,3,4,5]))\n",
    "print (\"Min of list: \", min([1,2,3,4,5]))\n",
    "print (\"Count number of 1 in list: \", [1,1,2,3,4,5,].count(1))\n",
    "list_1.extend(list_2)\n",
    "print (\"Extended :\", list_1)\n",
    "print (\"Index for Programming : \", list_1.index( 'Programming'))\n",
    "print (list_1)\n",
    "print (\"pop last item in list: \", list_1.pop())\n",
    "print (\"pop the item with index 2: \", list_1.pop(2))\n",
    "list_1.remove('b')\n",
    "print (\"removed b from list: \", list_1)\n",
    "list_1.reverse()\n",
    "print (\"Reverse: \", list_1)\n",
    "list_1 = ['a','b','c','1','2','3']\n",
    "list_1.sort()\n",
    "print (\"Sort ascending: \", list_1)\n",
    "list_1.sort(reverse = True)\n",
    "print (\"Sort descending: \", list_1)"
   ]
  },
  {
   "cell_type": "markdown",
   "metadata": {},
   "source": [
    "Tuple\n",
    "A Python tuple is a sequences or series of immutable Python objects very much similar to the lists. However there exist some essential differences between lists and tuples, which are the following. See also Table 1-11; and Listings 1-25, 1-26, 1-27, and 1-28.\n",
    "1. Unlike list, the objects of tuples cannot be changed.\n",
    "2. Tuples are defined by using parentheses, but lists are defined by square brackets."
   ]
  },
  {
   "cell_type": "code",
   "execution_count": null,
   "metadata": {},
   "outputs": [],
   "source": [
    "# Creating a tuple\n",
    "Tuple = ()\n",
    "print (\"Empty Tuple: \", Tuple)\n",
    "Tuple = (1,)\n",
    "print (\"Tuple with single item: \", Tuple)\n",
    "Tuple = ('a','b','c','d',1,2,3)\n",
    "print (\"Sample Tuple :\", Tuple)\n",
    "\n",
    "# Accessing items in tuple\n",
    "Tuple = ('a', 'b', 'c', 'd', 1, 2, 3)\n",
    "print (\"3rd item of Tuple:\", Tuple[2])\n",
    "print (\"First 3 items of Tuple\", Tuple[0:2])\n",
    "\n",
    "# Deleting tuple\n",
    "print (\"Sample Tuple: \", Tuple)\n",
    "del Tuple\n",
    "#print (Tuple) # Will throw an error message as the tuple does not exist\n",
    "\n",
    "# Basic Tuple operations\n",
    "Tuple = ('a','b','c','d',1,2,3)\n",
    "print (\"Length of Tuple: \", len(Tuple))\n",
    "Tuple_Concat = Tuple + (7,8,9)\n",
    "print (\"Concatinated Tuple: \", Tuple_Concat)\n",
    "\n",
    "print (\"Repetition: \", (1, 'a',2, 'b') * 3)\n",
    "print (\"Membership check: \", 3 in (1,2,3))\n",
    "# Iteration\n",
    "for x in (1, 2, 3): print (x)\n",
    "print (\"Negative sign will retrieve item from right: \", Tuple_Concat[-2])\n",
    "print (\"Sliced Tuple [2:] \", Tuple_Concat[2:])\n",
    "# Find max\n",
    "print (\"Max of the Tuple (1,2,3,4,5,6,7,8,9,10): \",\n",
    "max((1,2,3,4,5,6,7,8,9,10)))\n",
    "print (\"Min of the Tuple (1,2,3,4,5,6,7,8,9,10): \",\n",
    "min((1,2,3,4,5,6,7,8,9,10)))\n",
    "print (\"List [1,2,3,4] converted to tuple: \", type(tuple([1,2,3,4])))\n"
   ]
  },
  {
   "cell_type": "markdown",
   "metadata": {},
   "source": [
    "Sets\n",
    "As the name implies, sets are the implementations of mathematical sets. Three key characteristic of set are the following.\n",
    "1. The collection of items is unordered.\n",
    "2. No duplicate items will be stored, which means that each item\n",
    "is unique.\n",
    "3. Sets are mutable, which means the items of it can be changed."
   ]
  },
  {
   "cell_type": "code",
   "execution_count": null,
   "metadata": {},
   "outputs": [],
   "source": [
    "# Creating an empty set\n",
    "languages = set()\n",
    "print(type(languages), languages)\n",
    "languages = {'Python', 'R', 'SAS', 'Julia'}\n",
    "print(type(languages), languages)\n",
    "# set of mixed datatypes\n",
    "mixed_set = {\"Python\", (2.7, 3.4)}\n",
    "print(type(mixed_set), languages)\n",
    "\n",
    "print(list(languages)[0])\n",
    "print(list(languages)[0:3])\n",
    "\n",
    "# initialize a set\n",
    "languages = {'Python', 'R'}\n",
    "print(languages)\n",
    "# add an element\n",
    "languages.add('SAS')\n",
    "print(languages)\n",
    "# add multiple elements\n",
    "languages.update(['Julia','SPSS'])\n",
    "print(languages)\n",
    "# add list and set\n",
    "languages.update(['Java','C'], {'Machine Learning','Data Science','AI'})\n",
    "print(languages)\n",
    "\n",
    "# remove an element\n",
    "languages.remove('AI')\n",
    "print(languages)\n",
    "# discard an element, although AI has already been removed discard will not\n",
    "#throw an error\n",
    "languages.discard('AI')\n",
    "print(languages)\n",
    "# Pop will remove a random item from set\n",
    "print(\"Removed:\", (languages.pop()), \"from\", languages)\n",
    "\n",
    "# initialize A and B\n",
    "A = {1, 2, 3, 4, 5}\n",
    "B = {4, 5, 6, 7, 8}\n",
    "# use | operator\n",
    "print(\"Union of A | B\", A|B)\n",
    "# alternative we can use union()\n",
    "A.union(B)\n",
    "\n",
    "# use & operator\n",
    "print(\"Intersection of A & B\", A & B)\n",
    "# alternative we can use intersection()\n",
    "print(A.intersection(B))\n",
    "\n",
    "# use - operator on A\n",
    "print(\"Difference of A - B\", A - B)\n",
    "# alternative we can use difference()\n",
    "print(A.difference(B))\n",
    "\n",
    "# Return a shallow copy of a set\n",
    "lang = languages.copy()\n",
    "print(languages)\n",
    "print(lang)\n",
    "# initialize A and B\n",
    "A = {1, 2, 3, 4, 5}\n",
    "B = {4, 5, 6, 7, 8}\n",
    "print (A.isdisjoint(B)) # True, when two sets have a null intersection\n",
    "print (A.issubset(B)) # True, when another set contains this set\n",
    "print (A.issuperset(B)) # True, when this set contains another set\n",
    "sorted(B) # Return a new sorted list\n",
    "print (sum(A)) # Retrun the sum of all items\n",
    "print (len(A)) # Return the length\n",
    "print (min(A)) # Return the largestitem\n",
    "print (max(A)) # Return the smallest item"
   ]
  },
  {
   "cell_type": "markdown",
   "metadata": {},
   "source": [
    "Dictionary\n",
    "The Python dictionary will have a key and value pair for each item that is part of it. The key and value should be enclosed in curly braces. Each key and value is separated using a colon (:), and further each item is separated by commas (,). Note that the keys are unique within a specific dictionary and must be immutable data types such as strings, numbers, or tuples, whereas values can take duplicate data of any type."
   ]
  },
  {
   "cell_type": "code",
   "execution_count": null,
   "metadata": {},
   "outputs": [],
   "source": [
    "# Creating dictionary\n",
    "dict = {'Name': 'Jivin', 'Age': 6, 'Class': 'First'}\n",
    "print(\"Sample dictionary: \", dict)\n",
    "# Accessing items in dictionary\n",
    "print (\"Value of key Name, from sample dictionary:\", dict['Name'])\n",
    "# Deleting a dictionary\n",
    "dict = {'Name': 'Jivin', 'Age': 6, 'Class': 'First'}\n",
    "print (\"Sample dictionary: \", dict)\n",
    "del dict['Name'] # Delete specific item\n",
    "print (\"Sample dictionary post deletion of item Name:\", dict)\n",
    "dict = {'Name': 'Jivin', 'Age': 6, 'Class': 'First'}\n",
    "dict.clear() # Clear all the contents of dictionary\n",
    "print (\"dict post dict.clear():\", dict)\n",
    "dict = {'Name': 'Jivin', 'Age': 6, 'Class': 'First'}\n",
    "del dict # Delete the dictionary\n",
    "# Updating dictionary\n",
    "dict = {'Name': 'Jivin', 'Age': 6, 'Class': 'First'}\n",
    "print (\"Sample dictionary: \", dict)\n",
    "dict['Age'] = 6.5\n",
    "print (\"Dictionary post age value update: \", dict)\n",
    "# Basic operations\n",
    "dict = {'Name': 'Jivin', 'Age': 6, 'Class': 'First'}\n",
    "print (\"Length of dict: \", len(dict))\n",
    "dict1 = {'Name': 'Jivin', 'Age': 6};\n",
    "dict2 = {'Name': 'Pratham', 'Age': 7};\n",
    "dict3 = {'Name': 'Pranuth', 'Age': 7};\n",
    "dict4 = {'Name': 'Jivin', 'Age': 6};\n",
    "\n",
    "# String representation of dictionary\n",
    "dict = {'Name': 'Jivin', 'Age': 6}\n",
    "print (\"Equivalent String: \", str (dict))\n",
    "# Copy the dict\n",
    "dict1 = dict.copy()\n",
    "print (dict1)\n",
    "# Create new dictionary with keys from tuple and values to set value\n",
    "seq = ('name', 'age', 'sex')\n",
    "dict = dict.fromkeys(seq)\n",
    "print (\"New Dictionary: \", str(dict))\n",
    "dict = dict.fromkeys(seq, 10)\n",
    "print (\"New Dictionary: \", str(dict))\n",
    "# Retrieve value for a given key\n",
    "dict = {'Name': 'Jivin', 'Age': 6}\n",
    "print (\"Value for Age: \", dict.get('Age'))\n",
    "# Since the key Education does not exist, the second argument will be returned\n",
    "print (\"Value for Education: \", dict.get('Education', \"First Grade\"))\n",
    "# Return items of dictionary\n",
    "print (\"dict items: \", dict.items())\n",
    "# Return items of keys\n",
    "print (\"dict keys: \", dict.keys())\n",
    "# return values of dict\n",
    "print (\"Value of dict: \",  dict.values())\n",
    "# if key does not exists, then the arguments will be added to dict and returned\n",
    "print (\"Value for Age : \", dict.setdefault('Age', None))\n",
    "print (\"Value for Sex: \", dict.setdefault('Sex', None))\n",
    "# Concatenate dicts\n",
    "dict = {'Name': 'Jivin', 'Age': 6}\n",
    "dict2 = {'Sex': 'male' }\n",
    "dict.update(dict2)\n",
    "print (\"dict.update(dict2) = \",  dict)\n"
   ]
  },
  {
   "cell_type": "markdown",
   "metadata": {},
   "source": [
    "def functoin_name():\n",
    "    1st block line\n",
    "    2nd block line"
   ]
  },
  {
   "cell_type": "code",
   "execution_count": null,
   "metadata": {},
   "outputs": [],
   "source": [
    "# Simple function\n",
    "def someFunction():\n",
    "    print (\"Hello World\")\n",
    "# Call the function\n",
    "someFunction()\n",
    "\n",
    "\n",
    "# Simple function to add two numbers\n",
    "def sum_two_numbers(x, y):\n",
    "    return x + y\n",
    "# after this line x will hold the value 3\n",
    "print(sum_two_numbers(1,2))\n",
    "\n",
    "# Simple function to add two number with b having default value of 10\n",
    "def sum_two_numbers(x, y = 10):\n",
    "    return x + y\n",
    "# Call the function and print result\n",
    "print(sum_two_numbers(10))\n",
    "print(sum_two_numbers(10, 5))\n",
    "\n",
    "# Simple function to loop through arguments and print them\n",
    "def sample_function(*args):\n",
    "    for a in args:\n",
    "        print(a)\n",
    "# Call the function\n",
    "sample_function(1,2,3)\n",
    "\n",
    "# Simple function to loop through arguments and print them\n",
    "def sample_function(**kwargs):\n",
    "    for a in kwargs:\n",
    "        print (a, kwargs[a])\n",
    "# Call the function\n",
    "sample_function(name='John', age=27)\n"
   ]
  },
  {
   "cell_type": "markdown",
   "metadata": {},
   "source": [
    "Module\n",
    "A module is a logically organized multiple independent but related set of codes\n",
    "or functions or classes. The key principle behind module creating is it’s easier to understand, use, and has efficient maintainability. You can import a module and the Python interpreter will search for the module in interest in the following sequences.\n",
    "1. Currently active directly, that is, the directory from which the Python your program is being called.\n",
    "2. If the module isn’t found in currently active directory, Python then searches each directory in the path variable PYTHONPATH. If this fails then it searches in the default package installation path."
   ]
  },
  {
   "cell_type": "code",
   "execution_count": null,
   "metadata": {},
   "outputs": [],
   "source": [
    "import os\n",
    "content = dir(os)\n",
    "print(content)"
   ]
  },
  {
   "cell_type": "markdown",
   "metadata": {},
   "source": [
    "File Input/Output"
   ]
  },
  {
   "cell_type": "code",
   "execution_count": null,
   "metadata": {},
   "outputs": [],
   "source": [
    "# Below code will create a file named vehicles and add the items. \\n is a\n",
    "#newline character\n",
    "vehicles = ['scooter\\n', 'bike\\n', 'car\\n']\n",
    "f = open('vehicles.txt', 'w')\n",
    "f.writelines(vehicles)\n",
    "# Reading from file\n",
    "f = open('vechicles.txt')\n",
    "print(f.readlines())\n",
    "f.close()"
   ]
  },
  {
   "cell_type": "markdown",
   "metadata": {},
   "source": [
    "Exception Handling"
   ]
  },
  {
   "cell_type": "code",
   "execution_count": 80,
   "metadata": {},
   "outputs": [
    {
     "name": "stdout",
     "output_type": "stream",
     "text": [
      "Result of x/y:  1.0\n",
      "I/O error(2): No such file or directory\n",
      "file has been closed\n"
     ]
    }
   ],
   "source": [
    "try: \n",
    "    x= 1 \n",
    "    y= 1\n",
    "    print(\"Result of x/y: \", x / y)\n",
    "except (ZeroDivisionError):\n",
    "    print(\"Can not divide by zero\")\n",
    "except (TypeError):\n",
    "    print(\"Wrong data type, division is allowed on numeric data type only\")\n",
    "except:\n",
    "    print(\"Unexpected error occurred\", '\\n', \"Error Type: \", sys.exc_info()[0], '\\n', \"Error Msg: \", sys.exc_info()[1])\n",
    "    \n",
    "try:\n",
    "    f = open('vechicles.txt')\n",
    "    print(f.readline())\n",
    "    i = int(s.strip())\n",
    "except IOError as e:\n",
    "    print(\"I/O error({0}): {1}\".format(e.errno, e.strerror))\n",
    "except ValueError:\n",
    "    print(\"Could not convert data to an integer.\")\n",
    "except:\n",
    "    #print(\"Unexpected error occurred\", '\\n', \"Error Type: \", sys.exc_info())[0], '\\n', \"Error Msg: \", sys.exc_info()[1]\n",
    "    print(\"Unexpected error occurred\")\n",
    "finally:\n",
    "    f.close()\n",
    "    print(\"file has been closed\")"
   ]
  }
 ],
 "metadata": {
  "kernelspec": {
   "display_name": "Python 3.10.5 64-bit",
   "language": "python",
   "name": "python3"
  },
  "language_info": {
   "codemirror_mode": {
    "name": "ipython",
    "version": 3
   },
   "file_extension": ".py",
   "mimetype": "text/x-python",
   "name": "python",
   "nbconvert_exporter": "python",
   "pygments_lexer": "ipython3",
   "version": "3.10.5"
  },
  "orig_nbformat": 4,
  "vscode": {
   "interpreter": {
    "hash": "aee8b7b246df8f9039afb4144a1f6fd8d2ca17a180786b69acc140d282b71a49"
   }
  }
 },
 "nbformat": 4,
 "nbformat_minor": 2
}
