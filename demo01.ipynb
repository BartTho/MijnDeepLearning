{
 "cells": [
  {
   "cell_type": "markdown",
   "metadata": {},
   "source": [
    "Importeren"
   ]
  },
  {
   "cell_type": "markdown",
   "metadata": {},
   "source": [
    " #1) Zonder certificaat\n",
    "import ssl\n",
    "ssl._create_default_https_context = ssl._create_unverified_context\n",
    "\n",
    "#ofwel\n",
    "#2) Met certificaat\n",
    "import ssl\n",
    "import certifi\n",
    "\n",
    "urlopen(request, context=ssl.create_default_context(cafile=certifi.where()))\n",
    "\n",
    "#ofwel\n",
    "3) pip install certifi\n",
    "\n",
    "#ofwel\n",
    "4)In macOS just open Macintosh HD\n",
    "Now Select Application\n",
    "Then Select Python folder ( Python3.6, Python3.7 Whatever You are using just select this folder )\n",
    "Then, double click on Install Certificates.command.\n",
    "Now your error should be solved\n"
   ]
  },
  {
   "cell_type": "code",
   "execution_count": 22,
   "metadata": {},
   "outputs": [
    {
     "name": "stdout",
     "output_type": "stream",
     "text": [
      "(1460, 80)\n"
     ]
    }
   ],
   "source": [
    "import pandas as pd\n",
    "import numpy as np\n",
    "from sklearn.datasets import fetch_openml\n",
    "from sklearn.datasets import fetch_california_housing\n",
    "\n",
    "housing = fetch_openml(name=\"house_prices\", as_frame=True)\n",
    "print(housing.data.shape)"
   ]
  },
  {
   "cell_type": "markdown",
   "metadata": {},
   "source": [
    "Syntax voorbeelden"
   ]
  },
  {
   "cell_type": "markdown",
   "metadata": {},
   "source": [
    "SELECTIE"
   ]
  },
  {
   "cell_type": "code",
   "execution_count": 23,
   "metadata": {},
   "outputs": [
    {
     "name": "stdout",
     "output_type": "stream",
     "text": [
      "the value of var is positive\n",
      "1\n"
     ]
    }
   ],
   "source": [
    "var = 1\n",
    "if var < 0:\n",
    "    print(\"the value of var is negative\")\n",
    "    print (var)\n",
    "else:\n",
    "    print (\"the value of var is positive\")\n",
    "    print (var)"
   ]
  },
  {
   "cell_type": "markdown",
   "metadata": {},
   "source": [
    "Iteraties"
   ]
  },
  {
   "cell_type": "code",
   "execution_count": 24,
   "metadata": {},
   "outputs": [
    {
     "name": "stdout",
     "output_type": "stream",
     "text": [
      "First Example\n",
      "item : 1\n",
      "item : 2\n",
      "item : 3\n",
      "item : 4\n",
      "item : 5\n",
      "Second Example\n",
      " First loop letter : A\n",
      " First loop letter : B\n",
      " First loop letter : C\n",
      "Third Example\n",
      "First loop letter : A\n",
      "First loop letter : B\n",
      "First loop letter : C\n",
      "Fourth Example\n",
      "item : 1\n",
      "item : 2\n",
      "item : 3\n",
      "item : 4\n",
      "item : 5\n",
      "looping over item complete!\n",
      "The count is: 0\n",
      "The count is: 1\n",
      "The count is: 2\n"
     ]
    }
   ],
   "source": [
    "# First Example\n",
    "print(\"First Example\")\n",
    "for item in [1,2,3,4,5]:\n",
    "    print ('item :', item)\n",
    "# Second Example\n",
    "print (\"Second Example\")\n",
    "letters = ['A', 'B', 'C']\n",
    "for letter in letters:\n",
    "    print (' First loop letter :', letter)\n",
    "# Third Example - Iterating by sequency index\n",
    "print (\"Third Example\")\n",
    "for index in range(len(letters)):\n",
    "    print ('First loop letter :', letters[index])\n",
    "# Fourth Example - Using else statement\n",
    "print (\"Fourth Example\")\n",
    "for item in [1,2,3,4,5]:\n",
    "    print ('item :', item)\n",
    "else:\n",
    "    print ('looping over item complete!')\n",
    "    \n",
    "\n",
    "count = 0\n",
    "while (count <3):\n",
    "    print('The count is:', count)\n",
    "    count = count + 1"
   ]
  },
  {
   "cell_type": "markdown",
   "metadata": {},
   "source": [
    "List"
   ]
  },
  {
   "cell_type": "code",
   "execution_count": 35,
   "metadata": {},
   "outputs": [
    {
     "name": "stdout",
     "output_type": "stream",
     "text": [
      "list_1[0]:  Statistics\n",
      "list2_[1:5]:  ['b', 1, 2, 3]\n",
      "list_1 values:  ['Statistics', 'Programming', 2016, 2017, 2018, 2019, 2020, 2021, 2022]\n",
      "After deleting value at index 2 :  ['Statistics', 'Programming', 2016, 2017, 2018, 2020, 2021, 2022]\n",
      "Length:  8\n",
      "Concatenation:  [1, 2, 3, 4, 5, 6]\n",
      "Repetition : ['Hello', 'Hello', 'Hello', 'Hello']\n",
      "Membership : True\n",
      "Iteration :\n",
      "1\n",
      "2\n",
      "3\n",
      "slicing : 2021\n",
      "slicing range:  ['Programming', 2016, 2017, 2018, 2020, 2021, 2022]\n",
      "Max of list:  5\n",
      "Min of list:  1\n",
      "Count number of 1 in list:  2\n",
      "Extended : ['Statistics', 'Programming', 2016, 2017, 2018, 2020, 2021, 2022, 'a', 'b', 1, 2, 3, 4, 5, 6, 7]\n",
      "Index for Programming :  1\n",
      "['Statistics', 'Programming', 2016, 2017, 2018, 2020, 2021, 2022, 'a', 'b', 1, 2, 3, 4, 5, 6, 7]\n",
      "pop last item in list:  7\n",
      "pop the item with index 2:  2016\n",
      "removed b from list:  ['Statistics', 'Programming', 2017, 2018, 2020, 2021, 2022, 'a', 1, 2, 3, 4, 5, 6]\n",
      "Reverse:  [6, 5, 4, 3, 2, 1, 'a', 2022, 2021, 2020, 2018, 2017, 'Programming', 'Statistics']\n",
      "Sort ascending:  ['1', '2', '3', 'a', 'b', 'c']\n",
      "Sort descending:  ['c', 'b', 'a', '3', '2', '1']\n"
     ]
    }
   ],
   "source": [
    "# Create lists\n",
    "list_1 = ['Statistics', 'Programming', 2016, 2017, 2018,2019,2020,2021,2022];\n",
    "list_2 = ['a', 'b', 1, 2, 3, 4, 5, 6, 7 ];\n",
    "# Accessing values in lists\n",
    "print (\"list_1[0]: \", list_1[0])\n",
    "print (\"list2_[1:5]: \", list_2[1:5])\n",
    "\n",
    "print (\"list_1 values: \", list_1)\n",
    "# Deleting list element\n",
    "del list_1[5]\n",
    "print (\"After deleting value at index 2 : \", list_1)\n",
    "\n",
    "print (\"Length: \", len(list_1))\n",
    "print (\"Concatenation: \", [1,2,3] + [4, 5, 6])\n",
    "print (\"Repetition :\", ['Hello'] * 4)\n",
    "print (\"Membership :\", 3 in [1,2,3])\n",
    "print (\"Iteration :\")\n",
    "for x in [1,2,3]: print(x)\n",
    "# Negative sign will count from the right\n",
    "print (\"slicing :\", list_1[-2])\n",
    "# If you dont specify the end explicitly, all elements from the specified\n",
    "# start index will be printed\n",
    "print (\"slicing range: \", list_1[1:])\n",
    "# Comparing elements of lists\n",
    "print (\"Max of list: \", max([1,2,3,4,5]))\n",
    "print (\"Min of list: \", min([1,2,3,4,5]))\n",
    "print (\"Count number of 1 in list: \", [1,1,2,3,4,5,].count(1))\n",
    "list_1.extend(list_2)\n",
    "print (\"Extended :\", list_1)\n",
    "print (\"Index for Programming : \", list_1.index( 'Programming'))\n",
    "print (list_1)\n",
    "print (\"pop last item in list: \", list_1.pop())\n",
    "print (\"pop the item with index 2: \", list_1.pop(2))\n",
    "list_1.remove('b')\n",
    "print (\"removed b from list: \", list_1)\n",
    "list_1.reverse()\n",
    "print (\"Reverse: \", list_1)\n",
    "list_1 = ['a','b','c','1','2','3']\n",
    "list_1.sort()\n",
    "print (\"Sort ascending: \", list_1)\n",
    "list_1.sort(reverse = True)\n",
    "print (\"Sort descending: \", list_1)"
   ]
  },
  {
   "cell_type": "markdown",
   "metadata": {},
   "source": [
    "Tuple\n",
    "A Python tuple is a sequences or series of immutable Python objects very much similar to the lists. However there exist some essential differences between lists and tuples, which are the following. See also Table 1-11; and Listings 1-25, 1-26, 1-27, and 1-28.\n",
    "1. Unlike list, the objects of tuples cannot be changed.\n",
    "2. Tuples are defined by using parentheses, but lists are defined by square brackets."
   ]
  },
  {
   "cell_type": "code",
   "execution_count": 42,
   "metadata": {},
   "outputs": [
    {
     "name": "stdout",
     "output_type": "stream",
     "text": [
      "Empty Tuple:  ()\n",
      "Tuple with single item:  (1,)\n",
      "Sample Tuple : ('a', 'b', 'c', 'd', 1, 2, 3)\n",
      "3rd item of Tuple: c\n",
      "First 3 items of Tuple ('a', 'b')\n",
      "Sample Tuple:  ('a', 'b', 'c', 'd', 1, 2, 3)\n",
      "Length of Tuple:  7\n",
      "Concatinated Tuple:  ('a', 'b', 'c', 'd', 1, 2, 3, 7, 8, 9)\n",
      "Repetition:  (1, 'a', 2, 'b', 1, 'a', 2, 'b', 1, 'a', 2, 'b')\n",
      "Membership check:  True\n",
      "1\n",
      "2\n",
      "3\n",
      "Negative sign will retrieve item from right:  8\n",
      "Sliced Tuple [2:]  ('c', 'd', 1, 2, 3, 7, 8, 9)\n",
      "Max of the Tuple (1,2,3,4,5,6,7,8,9,10):  10\n",
      "Min of the Tuple (1,2,3,4,5,6,7,8,9,10):  1\n",
      "List [1,2,3,4] converted to tuple:  <class 'tuple'>\n"
     ]
    }
   ],
   "source": [
    "# Creating a tuple\n",
    "Tuple = ()\n",
    "print (\"Empty Tuple: \", Tuple)\n",
    "Tuple = (1,)\n",
    "print (\"Tuple with single item: \", Tuple)\n",
    "Tuple = ('a','b','c','d',1,2,3)\n",
    "print (\"Sample Tuple :\", Tuple)\n",
    "\n",
    "# Accessing items in tuple\n",
    "Tuple = ('a', 'b', 'c', 'd', 1, 2, 3)\n",
    "print (\"3rd item of Tuple:\", Tuple[2])\n",
    "print (\"First 3 items of Tuple\", Tuple[0:2])\n",
    "\n",
    "# Deleting tuple\n",
    "print (\"Sample Tuple: \", Tuple)\n",
    "del Tuple\n",
    "#print (Tuple) # Will throw an error message as the tuple does not exist\n",
    "\n",
    "# Basic Tuple operations\n",
    "Tuple = ('a','b','c','d',1,2,3)\n",
    "print (\"Length of Tuple: \", len(Tuple))\n",
    "Tuple_Concat = Tuple + (7,8,9)\n",
    "print (\"Concatinated Tuple: \", Tuple_Concat)\n",
    "\n",
    "print (\"Repetition: \", (1, 'a',2, 'b') * 3)\n",
    "print (\"Membership check: \", 3 in (1,2,3))\n",
    "# Iteration\n",
    "for x in (1, 2, 3): print (x)\n",
    "print (\"Negative sign will retrieve item from right: \", Tuple_Concat[-2])\n",
    "print (\"Sliced Tuple [2:] \", Tuple_Concat[2:])\n",
    "# Find max\n",
    "print (\"Max of the Tuple (1,2,3,4,5,6,7,8,9,10): \",\n",
    "max((1,2,3,4,5,6,7,8,9,10)))\n",
    "print (\"Min of the Tuple (1,2,3,4,5,6,7,8,9,10): \",\n",
    "min((1,2,3,4,5,6,7,8,9,10)))\n",
    "print (\"List [1,2,3,4] converted to tuple: \", type(tuple([1,2,3,4])))\n"
   ]
  },
  {
   "cell_type": "markdown",
   "metadata": {},
   "source": [
    "Sets\n",
    "As the name implies, sets are the implementations of mathematical sets. Three key characteristic of set are the following.\n",
    "1. The collection of items is unordered.\n",
    "2. No duplicate items will be stored, which means that each item\n",
    "is unique.\n",
    "3. Sets are mutable, which means the items of it can be changed."
   ]
  },
  {
   "cell_type": "code",
   "execution_count": null,
   "metadata": {},
   "outputs": [],
   "source": []
  }
 ],
 "metadata": {
  "kernelspec": {
   "display_name": "Python 3.10.5 64-bit",
   "language": "python",
   "name": "python3"
  },
  "language_info": {
   "codemirror_mode": {
    "name": "ipython",
    "version": 3
   },
   "file_extension": ".py",
   "mimetype": "text/x-python",
   "name": "python",
   "nbconvert_exporter": "python",
   "pygments_lexer": "ipython3",
   "version": "3.10.5"
  },
  "orig_nbformat": 4,
  "vscode": {
   "interpreter": {
    "hash": "aee8b7b246df8f9039afb4144a1f6fd8d2ca17a180786b69acc140d282b71a49"
   }
  }
 },
 "nbformat": 4,
 "nbformat_minor": 2
}
