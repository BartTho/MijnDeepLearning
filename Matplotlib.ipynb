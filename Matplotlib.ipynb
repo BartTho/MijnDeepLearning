{
 "cells": [
  {
   "cell_type": "code",
   "execution_count": null,
   "metadata": {},
   "outputs": [],
   "source": [
    "import numpy as np\n",
    "import pandas as pd\n",
    "import matplotlib.pyplot as plt"
   ]
  },
  {
   "cell_type": "markdown",
   "metadata": {},
   "source": [
    "Matplotlib\n",
    "\n",
    "Matplotlib is a numerical mathematics extension NumPy and a great package to view or present data in a pictorial or graphical format. It enables analysts and decision makers to see analytics presented visually, so they can grasp difficult concepts or identify new patterns. There are two broad ways of using pyplo."
   ]
  },
  {
   "cell_type": "markdown",
   "metadata": {},
   "source": [
    "Using Global Functions\n",
    "The most common and easy approach is by using global functions to build and display a global figure using matplotlib as a global state machine. Let’s look at some of the most commonly used charts. Then see Listing 2-31.\n",
    "\n",
    "• plt.bar – creates a bar chart\n",
    "• plt.scatter – makes a scatter plot\n",
    "• plt.boxplot – makes a box and whisker plot\n",
    "• plt.hist – makes a histogram\n",
    "• plt.plot – creates a line plot"
   ]
  },
  {
   "cell_type": "code",
   "execution_count": null,
   "metadata": {},
   "outputs": [],
   "source": [
    "# simple bar and scatter plot\n",
    "x = np.arange(5)          # assume there are 5 students\n",
    "y = (20, 35, 30, 35, 27)  # their test scores\n",
    "plt.bar(x,y)              # Bar plot\n",
    "# need to close the figure using show() or close(), if not closed any follow\n",
    "#up plot commands will use same figure.\n",
    "plt.show()                # Try commenting this an run\n",
    "plt.scatter(x,y)          # scatter plot\n",
    "plt.show()"
   ]
  },
  {
   "cell_type": "code",
   "execution_count": null,
   "metadata": {},
   "outputs": [],
   "source": [
    "df = pd.DataFrame({'Name' : ['jack', 'jane', 'jack', 'jane', 'jack', 'jane',\n",
    "'jack', 'jane'],'State' : ['SFO', 'SFO', 'NYK', 'CA', 'NYK', 'NYK',\n",
    "'SFO', 'CA'],'Grade':['A','A','B','A','C','B','C','A'],\n",
    "'Age' : np.random.uniform(24, 50, size=8),\n",
    "'Salary' : np.random.uniform(3000, 5000, size=8),})\n",
    "# Note that the columns are ordered automatically in their alphabetic order\n",
    "df\n",
    "# for custom order please use below code\n",
    "# df = pd.DataFrame(data, columns = ['Name', 'State', 'Age','Salary'])\n",
    "# Find max age and salary by Name / State\n",
    "# with groupby, we can use all aggregate functions such as min, max, mean,count, cumsum\n",
    "df.groupby(['Name','State']).max()\n",
    "\n",
    "df.hist()# Histogram\n",
    "df.plot()                           # Line Graph\n",
    "df.boxplot()                        # Box plot"
   ]
  },
  {
   "cell_type": "markdown",
   "metadata": {},
   "source": [
    "Customizing Labels\n",
    "\n",
    "You can customize the labels to make them more meaningful."
   ]
  },
  {
   "cell_type": "code",
   "execution_count": null,
   "metadata": {},
   "outputs": [],
   "source": [
    "# generate sample data\n",
    "x = np.linspace(0, 20, 1000)  #100 evenly-spaced values from 0 to 50\n",
    "y = np.sin(x)\n",
    "# customize axis labels\n",
    "plt.plot(x, y, label = 'Sample Label')\n",
    "plt.title('Sample Plot Title')\n",
    "plt.xlabel('x axis label')\n",
    "plt.ylabel('y axis label')\n",
    "plt.grid(True)\n",
    "# add footnote\n",
    "plt.figtext(0.995, 0.01, 'Footnote', ha='right', va='bottom')\n",
    "# add legend, location pick the best automatically\n",
    "plt.legend(loc='best', framealpha=0.5, prop={'size':'small'})\n",
    "# tight_layout() can take keyword arguments of pad, w_pad and h_pad.\n",
    "# these control the extra padding around the figure border and between subplots.\n",
    "# The pads are specified in fraction of fontsize.\n",
    "plt.tight_layout(pad=1)\n",
    "# Saving chart to a file\n",
    "plt.savefig('filename.png')\n",
    "plt.close()  # Close the current window to allow new plot creation on\n",
    "#separate window / axis, alternatively we can use show()\n",
    "plt.show()"
   ]
  },
  {
   "cell_type": "markdown",
   "metadata": {},
   "source": [
    "Object Oriented\n",
    "\n",
    "You obtain an empty figure from a global factory, and then build the plot explicitly using the methods of the Figure and the classes it contains. The Figure is the top-level container for everything on a canvas. Axes is a container class for a specific plot. A figure may contain many Axes and/or Subplots. Subplots are laid out in a grid within the Figure. Axes can be placed anywhere on the Figure. We can use the subplots factory to get the Figure and all the desired Axes at once."
   ]
  },
  {
   "cell_type": "code",
   "execution_count": null,
   "metadata": {},
   "outputs": [],
   "source": [
    "fig, ax = plt.subplots()\n",
    "fig,(ax1,ax2,ax3) = plt.subplots(nrows=3, ncols=1, sharex=True,\n",
    "figsize=(8,4))\n",
    "# Iterating the Axes within a Figure\n",
    "for ax in fig.get_axes():\n",
    "    pass # do something"
   ]
  },
  {
   "cell_type": "markdown",
   "metadata": {},
   "source": [
    "Line Plots – Using ax.plot()"
   ]
  },
  {
   "cell_type": "code",
   "execution_count": null,
   "metadata": {},
   "outputs": [],
   "source": [
    "# generate sample data\n",
    "x = np.linspace(0, 20, 1000)\n",
    "y = np.sin(x)\n",
    "fig = plt.figure(figsize=(8,4))\n",
    "#and add an Axes\n",
    "ax = fig.add_subplot(1,1,1)\n",
    "ax.plot(x, y, 'b-', linewidth=2, label='Sample label') # line plot data on the Axes\n",
    "# add title, labels and legend, etc.\n",
    "ax.set_ylabel('y axis label', fontsize=16)             # y label\n",
    "ax.set_xlabel('x axis lable', fontsize=16)             # x label\n",
    "ax.legend(loc='best')\n",
    "ax.grid(True)\n",
    "fig.suptitle('Sample Plot Title')\n",
    "fig.tight_layout(pad=1)\n",
    "fig.savefig('filename.png', dpi=125)\n",
    "# ---- output ----\n",
    "# legend\n",
    "# show grid\n",
    "# title\n",
    "# tidy laytout"
   ]
  },
  {
   "cell_type": "markdown",
   "metadata": {},
   "source": [
    "Multiple Lines on Same Axis"
   ]
  },
  {
   "cell_type": "code",
   "execution_count": null,
   "metadata": {},
   "outputs": [],
   "source": [
    "# get the Figure and Axes all at once\n",
    "fig, ax = plt.subplots(figsize=(8,4))\n",
    "x1 = np.linspace(0, 100, 20)\n",
    "x2 = np.linspace(0, 100, 20)\n",
    "x3 = np.linspace(0, 100, 20)\n",
    "y1 = np.sin(x1)\n",
    "y2 = np.cos(x2)\n",
    "y3 = np.tan(x3)\n",
    "ax.plot(x1, y1, label='sin')\n",
    "ax.plot(x2, y2, label='cos')\n",
    "ax.plot(x3, y3, label='tan')\n",
    "# add grid, legend, title and save\n",
    "ax.grid(True)\n",
    "ax.legend(loc='best', prop={'size':'large'})\n",
    "fig.suptitle('A Simple Multi Axis Line Plot')\n",
    "fig.savefig('filename.png', dpi=125)"
   ]
  },
  {
   "cell_type": "markdown",
   "metadata": {},
   "source": [
    "Multiple Lines on Different Axis"
   ]
  },
  {
   "cell_type": "code",
   "execution_count": null,
   "metadata": {},
   "outputs": [],
   "source": [
    "# Changing sharex to True will use the same x axis\n",
    "fig, (ax1,ax2,ax3) = plt.subplots(nrows=3, ncols=1, sharex=False, sharey =\n",
    "False, figsize=(8,4))\n",
    "# plot some lines\n",
    "x1 = np.linspace(0, 100, 20)\n",
    "x2 = np.linspace(0, 100, 20)\n",
    "x3 = np.linspace(0, 100, 20)\n",
    "y1 = np.sin(x1)\n",
    "y2 = np.cos(x2)\n",
    "y3 = np.tan(x3)\n",
    "ax1.plot(x1, y1, label='sin')\n",
    "ax2.plot(x2, y2, label='cos')\n",
    "ax3.plot(x3, y3, label='tan')\n",
    "# add grid, legend, title and save\n",
    "ax1.grid(True)\n",
    "ax2.grid(True)\n",
    "ax3.grid(True)\n",
    "ax1.legend(loc='best', prop={'size':'large'})\n",
    "ax2.legend(loc='best', prop={'size':'large'})\n",
    "ax3.legend(loc='best', prop={'size':'large'})\n",
    "fig.suptitle('A Simple Multi Axis Line Plot')\n",
    "fig.savefig('filename.png', dpi=125)"
   ]
  },
  {
   "cell_type": "markdown",
   "metadata": {},
   "source": [
    "Control the Line Style and Marker Style"
   ]
  },
  {
   "cell_type": "code",
   "execution_count": null,
   "metadata": {},
   "outputs": [],
   "source": [
    "# get the Figure and Axes all at once\n",
    "fig, ax = plt.subplots(figsize=(8,4))\n",
    "# plot some lines\n",
    "N = 3 # the number of lines we will plot\n",
    "styles =  ['-', '--', '-.', ':']\n",
    "markers = list('+ox')\n",
    "x = np.linspace(0, 100, 20)\n",
    "for i in range(N): # add line-by-line\n",
    "    y = x + x/5*i + i\n",
    "    s = styles[i % len(styles)]\n",
    "    m = markers[i % len(markers)]\n",
    "    ax.plot(x, y, alpha = 1, label='Line '+str(i+1)+' '+s+m,\n",
    "                  marker=m, linewidth=2, linestyle=s)\n",
    "# add grid, legend, title and save\n",
    "ax.grid(True)\n",
    "ax.legend(loc='best', prop={'size':'large'})\n",
    "fig.suptitle('A Simple Line Plot')\n",
    "fig.savefig('filename.png', dpi=125)"
   ]
  },
  {
   "cell_type": "markdown",
   "metadata": {},
   "source": [
    "Bar Plots – using ax.bar() and ax.barh()"
   ]
  },
  {
   "cell_type": "code",
   "execution_count": null,
   "metadata": {},
   "outputs": [],
   "source": [
    "# get the data\n",
    "N= 4\n",
    "labels = list('ABCD')\n",
    "data = np.array(range(N)) + np.random.rand(N)\n",
    "#plot the data\n",
    "fig, ax = plt.subplots(figsize=(8, 3.5))\n",
    "width = 0.5\n",
    "tickLocations = np.arange(N)\n",
    "rectLocations = tickLocations-(width/2.0)\n",
    "# for color either HEX value of the name of the color can be used\n",
    "ax.bar(rectLocations, data, width,\n",
    "       color='lightblue',\n",
    "       edgecolor='#1f10ed', linewidth=4.0)\n",
    "# tidy-up the plot\n",
    "ax.set_xticks(ticks= tickLocations)\n",
    "ax.set_xticklabels(labels)\n",
    "ax.set_xlim(min(tickLocations)-0.6, max(tickLocations)+0.6)\n",
    "ax.set_yticks(range(N)[1:])\n",
    "ax.set_ylim((0,N))\n",
    "ax.yaxis.grid(True)\n",
    "ax.set_ylabel('y axis label', fontsize=8)\n",
    "ax.set_xlabel('x axis lable', fontsize=8)\n",
    "# title and save\n",
    "fig.suptitle(\"Bar Plot\")\n",
    "fig.tight_layout(pad=2)\n",
    "fig.savefig('filename.png', dpi=125)"
   ]
  },
  {
   "cell_type": "markdown",
   "metadata": {},
   "source": [
    "Horizontal Bar Charts"
   ]
  },
  {
   "cell_type": "code",
   "execution_count": null,
   "metadata": {},
   "outputs": [],
   "source": [
    "# get the data\n",
    "N= 4\n",
    "labels = list('ABCD')\n",
    "data = np.array(range(N)) + np.random.rand(N)\n",
    "#plot the data\n",
    "fig, ax = plt.subplots(figsize=(8, 3.5))\n",
    "width = 0.5;\n",
    "tickLocations = np.arange(N)\n",
    "rectLocations = tickLocations-(width/2.0)\n",
    "# for color either HEX value of the name of the color can be used\n",
    "ax.barh(rectLocations, data, width, color='lightblue')\n",
    "# tidy-up the plot\n",
    "ax.set_yticks(ticks= tickLocations)\n",
    "ax.set_yticklabels(labels)\n",
    "ax.set_ylim(min(tickLocations)-0.6, max(tickLocations)+0.6)\n",
    "ax.xaxis.grid(True)\n",
    "ax.set_ylabel('y axis label', fontsize=8)\n",
    "ax.set_xlabel('x axis lable', fontsize=8)\n",
    "# title and save\n",
    "fig.suptitle(\"Bar Plot\")\n",
    "fig.tight_layout(pad=2)\n",
    "fig.savefig('filename.png', dpi=125)"
   ]
  },
  {
   "cell_type": "markdown",
   "metadata": {},
   "source": [
    "Side-by-Side Bar Chart"
   ]
  },
  {
   "cell_type": "code",
   "execution_count": null,
   "metadata": {},
   "outputs": [],
   "source": [
    "# generate sample data\n",
    "pre = np.array([19, 6, 11, 9])\n",
    "post = np.array([15, 11, 9, 8])\n",
    "labels=['Survey '+x for x in list('ABCD')]\n",
    "# the plot – left then right\n",
    "fig, ax = plt.subplots(figsize=(8, 3.5))\n",
    "width = 0.4 # bar width\n",
    "xlocs = np.arange(len(pre))\n",
    "ax.bar(xlocs-width, pre, width,\n",
    "       color='green', label='True')\n",
    "ax.bar(xlocs, post, width,\n",
    "       color='#1f10ed', label='False')\n",
    "# labels, grids and title, then save\n",
    "ax.set_xticks(ticks=range(len(pre)))\n",
    "ax.set_xticklabels(labels)\n",
    "ax.yaxis.grid(True)\n",
    "ax.legend(loc='best')\n",
    "ax.set_ylabel('Count')\n",
    "fig.suptitle('Sample Chart')\n",
    "fig.tight_layout(pad=1)\n",
    "fig.savefig('filename.png', dpi=125)"
   ]
  },
  {
   "cell_type": "markdown",
   "metadata": {},
   "source": [
    "Stacked Bar Example Code"
   ]
  },
  {
   "cell_type": "code",
   "execution_count": null,
   "metadata": {},
   "outputs": [],
   "source": [
    "# generate sample data\n",
    "pre = np.array([19, 6, 11, 9])\n",
    "post = np.array([15, 11, 9, 8])\n",
    "labels=['Survey '+x for x in list('ABCD')]\n",
    "# the plot – left then right\n",
    "fig, ax = plt.subplots(figsize=(8, 3.5))\n",
    "width = 0.4 # bar width\n",
    "xlocs = np.arange(len(pre)+2)\n",
    "adjlocs = xlocs[1:-1] - width/2.0\n",
    "ax.bar(adjlocs, pre, width,\n",
    "       color='grey', label='True')\n",
    "ax.bar(adjlocs, post, width,\n",
    "       color='cyan', label='False',\n",
    "       bottom=pre)\n",
    "# labels, grids and title, then save\n",
    "ax.set_xticks(ticks=xlocs[1:-1])\n",
    "ax.set_xticklabels(labels)\n",
    "ax.yaxis.grid(True)\n",
    "ax.legend(loc='best')\n",
    "ax.set_ylabel('Count')\n",
    "fig.suptitle('Sample Chart')\n",
    "fig.tight_layout(pad=1)\n",
    "fig.savefig('filename.png', dpi=125)"
   ]
  },
  {
   "cell_type": "markdown",
   "metadata": {},
   "source": [
    "Pie Chart – Using ax.pie()"
   ]
  },
  {
   "cell_type": "code",
   "execution_count": null,
   "metadata": {},
   "outputs": [],
   "source": [
    "# generate sample data\n",
    "data = np.array([15,8,4])\n",
    "labels = ['Feature Engineering', 'Model Tuning', 'Model Building']\n",
    "explode = (0, 0.1, 0) # explode feature engineering\n",
    "colrs=['cyan', 'tan', 'wheat']\n",
    "# plot\n",
    "fig, ax = plt.subplots(figsize=(8, 3.5))\n",
    "ax.pie(data, explode=explode,\n",
    "       labels=labels, autopct='%1.1f%%',\n",
    "       startangle=270, colors=colrs)\n",
    "ax.axis('equal') # keep it a circle\n",
    "# tidy-up and save\n",
    "fig.suptitle(\"ML Pie\")\n",
    "fig.savefig('filename.png', dpi=125)"
   ]
  },
  {
   "cell_type": "markdown",
   "metadata": {},
   "source": [
    "Example Code for Grid Creation"
   ]
  },
  {
   "cell_type": "code",
   "execution_count": null,
   "metadata": {},
   "outputs": [],
   "source": [
    "# Simple subplot grid layouts\n",
    "fig = plt.figure(figsize=(8,4))\n",
    "fig.text(x=0.01, y=0.01, s='Figure',color='#888888', ha='left', va='bottom',\n",
    "fontsize=20)\n",
    "for i in range(4):\n",
    "    # fig.add_subplot(nrows, ncols, num)\n",
    "    ax = fig.add_subplot(2, 2, i+1)\n",
    "    ax.text(x=0.01, y=0.01, s='Subplot 2 2 '+str(i+1),  color='red',\n",
    "ha='left', va='bottom', fontsize=20)\n",
    "    ax.set_xticks([]); ax.set_yticks([])\n",
    "ax.set_xticks([]); ax.set_yticks([])\n",
    "fig.suptitle('Subplots')\n",
    "fig.savefig('filename.png', dpi=125)"
   ]
  },
  {
   "cell_type": "markdown",
   "metadata": {},
   "source": [
    "Plotting – Defaults\n",
    "Matplotlib uses matplotlibrc configuration files to customize all kinds of properties, which we call rc settings or rcparameters. You can control the defaults of almost every property in matplotlib such as figure size and dpi, line width, color and style, axes, axis and grid properties, text and font properties, and so on. "
   ]
  },
  {
   "cell_type": "code",
   "execution_count": null,
   "metadata": {},
   "outputs": [],
   "source": [
    "# get configuration file location\n",
    "# print (plt.matplotlib_fname())\n",
    "# get configuration current settings\n",
    "print (plt.rcParams)\n",
    "# Change the default settings\n",
    "plt.rc('figure', figsize=(8,4), dpi=125,facecolor='white',\n",
    "edgecolor='white')\n",
    "plt.rc('axes', facecolor='#e5e5e5',  grid=True, linewidth=1.0,\n",
    "axisbelow=True)\n",
    "plt.rc('grid', color='white', linestyle='-',    linewidth=2.0, alpha=1.0)\n",
    "plt.rc('xtick', direction='out')\n",
    "plt.rc('ytick', direction='out')\n",
    "plt.rc('legend', loc='best')"
   ]
  }
 ],
 "metadata": {
  "kernelspec": {
   "display_name": "Python 3.10.5 64-bit",
   "language": "python",
   "name": "python3"
  },
  "language_info": {
   "codemirror_mode": {
    "name": "ipython",
    "version": 3
   },
   "file_extension": ".py",
   "mimetype": "text/x-python",
   "name": "python",
   "nbconvert_exporter": "python",
   "pygments_lexer": "ipython3",
   "version": "3.10.5"
  },
  "orig_nbformat": 4,
  "vscode": {
   "interpreter": {
    "hash": "aee8b7b246df8f9039afb4144a1f6fd8d2ca17a180786b69acc140d282b71a49"
   }
  }
 },
 "nbformat": 4,
 "nbformat_minor": 2
}
